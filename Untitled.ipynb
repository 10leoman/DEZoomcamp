{
 "cells": [
  {
   "cell_type": "code",
   "execution_count": 2,
   "id": "8beb20ab-3a0b-416a-9ccb-39e8c1060557",
   "metadata": {},
   "outputs": [
    {
     "name": "stdout",
     "output_type": "stream",
     "text": [
      "hello world in Codespaces\n"
     ]
    }
   ],
   "source": [
    "print(\"hello world in Codespaces\")"
   ]
  },
  {
   "cell_type": "code",
   "execution_count": null,
   "id": "8caed700-e80d-486e-bce8-a0c37deacc28",
   "metadata": {},
   "outputs": [],
   "source": [
    "print(\"hello\")"
   ]
  },
  {
   "cell_type": "code",
   "execution_count": null,
   "id": "799fdaae",
   "metadata": {},
   "outputs": [],
   "source": []
  }
 ],
 "metadata": {
  "kernelspec": {
   "display_name": "Python 3 (ipykernel)",
   "language": "python",
   "name": "python3"
  },
  "language_info": {
   "codemirror_mode": {
    "name": "ipython",
    "version": 3
   },
   "file_extension": ".py",
   "mimetype": "text/x-python",
   "name": "python",
   "nbconvert_exporter": "python",
   "pygments_lexer": "ipython3",
   "version": "3.12.1"
  }
 },
 "nbformat": 4,
 "nbformat_minor": 5
}
